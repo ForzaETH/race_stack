{
 "cells": [
  {
   "cell_type": "code",
   "execution_count": null,
   "metadata": {},
   "outputs": [],
   "source": [
    "import bagpy\n",
    "import numpy as np\n",
    "import matplotlib.pyplot as plt\n",
    "import rosbag"
   ]
  },
  {
   "cell_type": "code",
   "execution_count": null,
   "metadata": {},
   "outputs": [],
   "source": [
    "from frenet_converter import frenet_converter"
   ]
  },
  {
   "cell_type": "code",
   "execution_count": null,
   "metadata": {},
   "outputs": [],
   "source": [
    "bag_name = \"/home/gnone/rosbags/frenet_bug.bag\"\n",
    "\n",
    "boundaries_topic_name = \"/trackbounds/markers\"\n",
    "laserscan_topic_name = \"/scan\"\n",
    "carstate_pose_topic_name = \"/car_state/pose\"\n",
    "opponent_topic = \"/perception/obstacles\"\n",
    "raceline_topic = \"/global_waypoints\"\n",
    "map_topic_name = \"/map\"\n",
    "\n",
    "bag = bagpy.bagreader(bag_name)"
   ]
  },
  {
   "cell_type": "code",
   "execution_count": null,
   "metadata": {},
   "outputs": [],
   "source": [
    "# proper IEEE sizes \n",
    "\n",
    "# 1 column\n",
    "COLWIDTH = 3.5 # in inches\n",
    "FONTSIZE = 8 # in pt"
   ]
  },
  {
   "cell_type": "code",
   "execution_count": null,
   "metadata": {},
   "outputs": [],
   "source": [
    "bag_obj = rosbag.Bag(bag_name)"
   ]
  },
  {
   "cell_type": "code",
   "execution_count": null,
   "metadata": {},
   "outputs": [],
   "source": [
    "#get the raceline\n",
    "raceline = None\n",
    "for topic, msg, t in bag_obj.read_messages(topics=[raceline_topic]):\n",
    "    raceline = msg.wpnts\n",
    "    break\n",
    "\n",
    "raceline_x = np.array([p.x_m for p in raceline])\n",
    "raceline_y = np.array([p.y_m for p in raceline])\n",
    "\n",
    "#Frenet converter\n",
    "fc = frenet_converter.FrenetConverter(raceline_x, raceline_y)"
   ]
  },
  {
   "cell_type": "code",
   "execution_count": null,
   "metadata": {},
   "outputs": [],
   "source": [
    "x = 10.281317029280368\n",
    "y = 18.758460617419132\n",
    "\n",
    "x1 = 8.550580978393555\n",
    "y1 = 14.897018432617188\n",
    "\n",
    "x2 = 8.650595664978027\n",
    "y2 = 15.354464530944824\n",
    "\n",
    "resp = fc.get_frenet([x, x1, x2], [y, y1, y2])\n",
    "print(resp)"
   ]
  },
  {
   "cell_type": "code",
   "execution_count": null,
   "metadata": {},
   "outputs": [],
   "source": [
    "# print(resp[0], resp[1])\n",
    "cart = fc.get_cartesian(resp[0], resp[1])\n",
    "print([f\"Reprojection error: {num:.3f} [m]\" for num in (np.linalg.norm(cart, axis=0) - np.linalg.norm([[x, x1, x2], [y, y1, y2]], axis=0))])"
   ]
  },
  {
   "cell_type": "code",
   "execution_count": null,
   "metadata": {},
   "outputs": [],
   "source": [
    "spline_x, spline_y = fc.get_splines()"
   ]
  },
  {
   "cell_type": "code",
   "execution_count": null,
   "metadata": {},
   "outputs": [],
   "source": [
    "space = np.linspace(20, 21, 2000)\n",
    "# set aspect equal \n",
    "fig, ax = plt.subplots(figsize=(COLWIDTH, COLWIDTH))\n",
    "ax.set_aspect('equal')\n",
    "ax.plot(spline_x(space), spline_y(space))\n",
    "\n",
    "ax.plot(x,y,'x')\n",
    "# print tangent \n",
    "for i in np.linspace(20.6, 20.59, 3):\n",
    "    tangent = [spline_x(i, 1), spline_y(i, 1)]\n",
    "    # tangent = [-tangent[1], tangent[0]]\n",
    "    # normalize \n",
    "    tangent = tangent / np.linalg.norm(tangent, axis=0)\n",
    "    # print(tangent)\n",
    "    second_guy = np.array([x-spline_x(i), y-spline_y(i)])\n",
    "    # print(second_guy)\n",
    "    proj = np.clip(np.dot(tangent, second_guy), -1.66666667e-02, 1.66666667e-02)\n",
    "    print(proj)\n",
    "    print(np.einsum('ij,ij->i', [tangent], [second_guy])-proj)\n",
    "\n",
    "ax.plot(spline_x([20.5, 20.6]), spline_y([20.5, 20.6]), 'o')\n",
    "ax.plot([spline_x(20.6), spline_x(20.6) + tangent[0]], [spline_y(20.6), spline_y(20.6) + tangent[1]], 'r')"
   ]
  }
 ],
 "metadata": {
  "kernelspec": {
   "display_name": "f1tenth",
   "language": "python",
   "name": "python3"
  },
  "language_info": {
   "codemirror_mode": {
    "name": "ipython",
    "version": 3
   },
   "file_extension": ".py",
   "mimetype": "text/x-python",
   "name": "python",
   "nbconvert_exporter": "python",
   "pygments_lexer": "ipython3",
   "version": "3.8.13"
  },
  "orig_nbformat": 4
 },
 "nbformat": 4,
 "nbformat_minor": 2
}
